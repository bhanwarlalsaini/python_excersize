{
  "nbformat": 4,
  "nbformat_minor": 0,
  "metadata": {
    "colab": {
      "name": "strings.ipynb",
      "provenance": [],
      "authorship_tag": "ABX9TyPrwmGUiuNHeFNO+eaAQoQK",
      "include_colab_link": true
    },
    "kernelspec": {
      "name": "python3",
      "display_name": "Python 3"
    }
  },
  "cells": [
    {
      "cell_type": "markdown",
      "metadata": {
        "id": "view-in-github",
        "colab_type": "text"
      },
      "source": [
        "<a href=\"https://colab.research.google.com/github/bhanwarlalsaini/python_excersize/blob/main/strings.ipynb\" target=\"_parent\"><img src=\"https://colab.research.google.com/assets/colab-badge.svg\" alt=\"Open In Colab\"/></a>"
      ]
    },
    {
      "cell_type": "code",
      "metadata": {
        "id": "A-kDdqiUVXv-",
        "outputId": "346c4ffd-9972-4531-c92d-ba46b99d054c",
        "colab": {
          "base_uri": "https://localhost:8080/"
        }
      },
      "source": [
        "course = \" python's tutorial for beginners\"\n",
        "print(course)"
      ],
      "execution_count": 3,
      "outputs": [
        {
          "output_type": "stream",
          "text": [
            " python's tutorial for beginners\n"
          ],
          "name": "stdout"
        }
      ]
    },
    {
      "cell_type": "code",
      "metadata": {
        "id": "eIrUJrpaWGNS",
        "outputId": "d55ec6a0-3277-4d90-b2d1-7924c0d9d908",
        "colab": {
          "base_uri": "https://localhost:8080/",
          "height": 130
        }
      },
      "source": [
        "course2 = 'python's course for beginners\n",
        "print(course2)"
      ],
      "execution_count": 4,
      "outputs": [
        {
          "output_type": "error",
          "ename": "SyntaxError",
          "evalue": "ignored",
          "traceback": [
            "\u001b[0;36m  File \u001b[0;32m\"<ipython-input-4-52f68cc24895>\"\u001b[0;36m, line \u001b[0;32m1\u001b[0m\n\u001b[0;31m    course2 = 'python's course for beginners\u001b[0m\n\u001b[0m                      ^\u001b[0m\n\u001b[0;31mSyntaxError\u001b[0m\u001b[0;31m:\u001b[0m invalid syntax\n"
          ]
        }
      ]
    },
    {
      "cell_type": "code",
      "metadata": {
        "id": "UnDUhqwrWciu",
        "outputId": "493e62f6-e723-44f3-f8c6-d3be717f91b7",
        "colab": {
          "base_uri": "https://localhost:8080/",
          "height": 130
        }
      },
      "source": [
        "course3 = \"python tutorial for \"beginners\" \"\n",
        "print(course3)"
      ],
      "execution_count": 5,
      "outputs": [
        {
          "output_type": "error",
          "ename": "SyntaxError",
          "evalue": "ignored",
          "traceback": [
            "\u001b[0;36m  File \u001b[0;32m\"<ipython-input-5-19d374c95612>\"\u001b[0;36m, line \u001b[0;32m1\u001b[0m\n\u001b[0;31m    course3 = \"python tutorial for \"beginners\" \"\u001b[0m\n\u001b[0m                                            ^\u001b[0m\n\u001b[0;31mSyntaxError\u001b[0m\u001b[0;31m:\u001b[0m invalid syntax\n"
          ]
        }
      ]
    },
    {
      "cell_type": "code",
      "metadata": {
        "id": "u3jlxBpKWlVy",
        "outputId": "be65fea5-7ca1-4c70-ce10-72168db0c799",
        "colab": {
          "base_uri": "https://localhost:8080/"
        }
      },
      "source": [
        "course4 = ' python tutorial for \"beginners\" ' \n",
        "print(course4)"
      ],
      "execution_count": 6,
      "outputs": [
        {
          "output_type": "stream",
          "text": [
            " python tutorial for \"beginners\" \n"
          ],
          "name": "stdout"
        }
      ]
    },
    {
      "cell_type": "code",
      "metadata": {
        "id": "-wD310mSWvCR",
        "outputId": "eaa49a95-90fd-4cdb-c477-39a6688b42eb",
        "colab": {
          "base_uri": "https://localhost:8080/"
        }
      },
      "source": [
        "course5 = \"python's tutorial for beginners\"\n",
        "print(course5)"
      ],
      "execution_count": 7,
      "outputs": [
        {
          "output_type": "stream",
          "text": [
            "python's tutorial for beginners\n"
          ],
          "name": "stdout"
        }
      ]
    },
    {
      "cell_type": "code",
      "metadata": {
        "id": "hfMt8zeUW9gF",
        "outputId": "5fde27d2-bd50-452a-8da3-dea001147022",
        "colab": {
          "base_uri": "https://localhost:8080/"
        }
      },
      "source": [
        "#multipe string to print \n",
        "c = ''' \n",
        "Hi John,\n",
        "\n",
        "Here is our first course on python tutorial \n",
        "This is our first email to you,\n",
        "Thanks for subscribing our chennel \n",
        "'''\n",
        "print(c)"
      ],
      "execution_count": 9,
      "outputs": [
        {
          "output_type": "stream",
          "text": [
            " \n",
            "Hi John,\n",
            "\n",
            "Here is our first course on python tutorial \n",
            "This is our first email to you,\n",
            "Thanks for subscribing our chennel \n",
            "\n"
          ],
          "name": "stdout"
        }
      ]
    },
    {
      "cell_type": "code",
      "metadata": {
        "id": "C6I3JekcX_zX",
        "outputId": "4239ec98-050a-4c04-ab77-bcaebf368642",
        "colab": {
          "base_uri": "https://localhost:8080/"
        }
      },
      "source": [
        "cous = 'python  for beginners'\n",
        "print(cous[0])"
      ],
      "execution_count": 10,
      "outputs": [
        {
          "output_type": "stream",
          "text": [
            "p\n"
          ],
          "name": "stdout"
        }
      ]
    },
    {
      "cell_type": "code",
      "metadata": {
        "id": "hthW4n_DYjT-",
        "outputId": "b08442c7-1b9e-46e4-d227-6b1b0463a899",
        "colab": {
          "base_uri": "https://localhost:8080/"
        }
      },
      "source": [
        "print(cous[-1])"
      ],
      "execution_count": 11,
      "outputs": [
        {
          "output_type": "stream",
          "text": [
            "s\n"
          ],
          "name": "stdout"
        }
      ]
    },
    {
      "cell_type": "code",
      "metadata": {
        "id": "KP_70qR4YwVG",
        "outputId": "09bbcb11-49e2-4abc-ea48-e3b77921e1de",
        "colab": {
          "base_uri": "https://localhost:8080/"
        }
      },
      "source": [
        "print(cous[0:6])"
      ],
      "execution_count": 13,
      "outputs": [
        {
          "output_type": "stream",
          "text": [
            "python\n"
          ],
          "name": "stdout"
        }
      ]
    },
    {
      "cell_type": "code",
      "metadata": {
        "id": "fD9WdLwbZHky",
        "outputId": "5516c472-3b99-4c34-87eb-b3384ae747fe",
        "colab": {
          "base_uri": "https://localhost:8080/"
        }
      },
      "source": [
        "print(cous[0:])"
      ],
      "execution_count": 14,
      "outputs": [
        {
          "output_type": "stream",
          "text": [
            "python  for beginners\n"
          ],
          "name": "stdout"
        }
      ]
    },
    {
      "cell_type": "code",
      "metadata": {
        "id": "pEWFYI8HZZdW",
        "outputId": "caeb63cb-4ace-49bd-92a2-c06ce7b4d318",
        "colab": {
          "base_uri": "https://localhost:8080/"
        }
      },
      "source": [
        "print(cous[1:])"
      ],
      "execution_count": 15,
      "outputs": [
        {
          "output_type": "stream",
          "text": [
            "ython  for beginners\n"
          ],
          "name": "stdout"
        }
      ]
    },
    {
      "cell_type": "code",
      "metadata": {
        "id": "2VMtm7fqZkkr",
        "outputId": "3b1106ee-8ce2-450a-d68a-d1e993751df4",
        "colab": {
          "base_uri": "https://localhost:8080/"
        }
      },
      "source": [
        "print(cous[3:6])"
      ],
      "execution_count": 16,
      "outputs": [
        {
          "output_type": "stream",
          "text": [
            "hon\n"
          ],
          "name": "stdout"
        }
      ]
    },
    {
      "cell_type": "code",
      "metadata": {
        "id": "lKou4aCeZnNy",
        "outputId": "5cbebff9-8284-43a4-f96e-64d7b7342837",
        "colab": {
          "base_uri": "https://localhost:8080/"
        }
      },
      "source": [
        "print(cous[:5])"
      ],
      "execution_count": 17,
      "outputs": [
        {
          "output_type": "stream",
          "text": [
            "pytho\n"
          ],
          "name": "stdout"
        }
      ]
    },
    {
      "cell_type": "code",
      "metadata": {
        "id": "q40xD4-0Ztbu",
        "outputId": "8f6afa90-39ba-4f2e-b828-60dd5fa6a795",
        "colab": {
          "base_uri": "https://localhost:8080/"
        }
      },
      "source": [
        "another  = cous[:]\n",
        "print(another)"
      ],
      "execution_count": 18,
      "outputs": [
        {
          "output_type": "stream",
          "text": [
            "python  for beginners\n"
          ],
          "name": "stdout"
        }
      ]
    },
    {
      "cell_type": "code",
      "metadata": {
        "id": "udypcv7WZ9lu",
        "outputId": "c5786076-1fe4-4f34-fdc5-9863a60dd5d1",
        "colab": {
          "base_uri": "https://localhost:8080/"
        }
      },
      "source": [
        "name = 'jennifer'\n",
        "print(name[1:-1])"
      ],
      "execution_count": 19,
      "outputs": [
        {
          "output_type": "stream",
          "text": [
            "ennife\n"
          ],
          "name": "stdout"
        }
      ]
    },
    {
      "cell_type": "code",
      "metadata": {
        "id": "H-7c4ycFaVop"
      },
      "source": [
        ""
      ],
      "execution_count": null,
      "outputs": []
    }
  ]
}