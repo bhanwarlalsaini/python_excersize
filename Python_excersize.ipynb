{
  "nbformat": 4,
  "nbformat_minor": 0,
  "metadata": {
    "colab": {
      "name": "Python_excersize.ipynb",
      "provenance": [],
      "authorship_tag": "ABX9TyNhnkgjqi6zQKEqVoootpQx",
      "include_colab_link": true
    },
    "kernelspec": {
      "name": "python3",
      "display_name": "Python 3"
    }
  },
  "cells": [
    {
      "cell_type": "markdown",
      "metadata": {
        "id": "view-in-github",
        "colab_type": "text"
      },
      "source": [
        "<a href=\"https://colab.research.google.com/github/bhanwarlalsaini/python_excersize/blob/main/Python_excersize.ipynb\" target=\"_parent\"><img src=\"https://colab.research.google.com/assets/colab-badge.svg\" alt=\"Open In Colab\"/></a>"
      ]
    },
    {
      "cell_type": "code",
      "metadata": {
        "id": "SmlNc-0nKGZi",
        "outputId": "d7175efe-9f00-42b8-c0f7-9e1fff4ded4a",
        "colab": {
          "base_uri": "https://localhost:8080/"
        }
      },
      "source": [
        "name = input(\"what is yout name? \")\n",
        "print('Hi ' + name)"
      ],
      "execution_count": 2,
      "outputs": [
        {
          "output_type": "stream",
          "text": [
            "what is yout name? dharmesh\n",
            "Hi dharmesh\n"
          ],
          "name": "stdout"
        }
      ]
    },
    {
      "cell_type": "code",
      "metadata": {
        "id": "9Apk5q3eKVww",
        "outputId": "05b38b86-84bd-4c94-f4c3-f75045129572",
        "colab": {
          "base_uri": "https://localhost:8080/"
        }
      },
      "source": [
        "nam1 = input(\"what is your name? \")\n",
        "nam2 = input(\"what is favourite color? \")\n",
        "\n",
        "print(nam1 + ' likes ' + nam2 )"
      ],
      "execution_count": 4,
      "outputs": [
        {
          "output_type": "stream",
          "text": [
            "what is your name? Mosh\n",
            "what is favourite color? blue\n",
            "Mosh likes blue\n"
          ],
          "name": "stdout"
        }
      ]
    },
    {
      "cell_type": "code",
      "metadata": {
        "id": "mwbuobrbK8jh",
        "outputId": "5f558dc9-9a44-41f6-a6e7-e114be526324",
        "colab": {
          "base_uri": "https://localhost:8080/"
        }
      },
      "source": [
        "b_year = input(\"birth year : \")\n",
        "print(type(b_year))\n",
        "age = 2020 - int(b_year)\n",
        "print(type(age))\n",
        "print(age)"
      ],
      "execution_count": 7,
      "outputs": [
        {
          "output_type": "stream",
          "text": [
            "birth year : 1998\n",
            "<class 'str'>\n",
            "<class 'int'>\n",
            "22\n"
          ],
          "name": "stdout"
        }
      ]
    },
    {
      "cell_type": "code",
      "metadata": {
        "id": "D6gtBAzYNmPB",
        "outputId": "d90e72c2-c6ee-4408-a705-1c99bd985e69",
        "colab": {
          "base_uri": "https://localhost:8080/"
        }
      },
      "source": [
        "weight  = input(\"what is weights(in pounds)? \")\n",
        "weight_kg = int(weight) * 0.45\n",
        "print(weight_kg)\n"
      ],
      "execution_count": 8,
      "outputs": [
        {
          "output_type": "stream",
          "text": [
            "what is weights(in pounds)? 160\n",
            "72.0\n"
          ],
          "name": "stdout"
        }
      ]
    },
    {
      "cell_type": "code",
      "metadata": {
        "id": "lqCx53vCPE_t"
      },
      "source": [
        ""
      ],
      "execution_count": null,
      "outputs": []
    }
  ]
}