{
  "nbformat": 4,
  "nbformat_minor": 0,
  "metadata": {
    "colab": {
      "name": "formatted_strings.ipynb",
      "provenance": [],
      "authorship_tag": "ABX9TyMF+8rKmCQKGfVqTGRkNlTb",
      "include_colab_link": true
    },
    "kernelspec": {
      "name": "python3",
      "display_name": "Python 3"
    }
  },
  "cells": [
    {
      "cell_type": "markdown",
      "metadata": {
        "id": "view-in-github",
        "colab_type": "text"
      },
      "source": [
        "<a href=\"https://colab.research.google.com/github/bhanwarlalsaini/python_excersize/blob/main/formatted_strings.ipynb\" target=\"_parent\"><img src=\"https://colab.research.google.com/assets/colab-badge.svg\" alt=\"Open In Colab\"/></a>"
      ]
    },
    {
      "cell_type": "code",
      "metadata": {
        "id": "7UYLfHJMa66H",
        "outputId": "3b70d8f2-3789-45d3-9b15-c20a07d90d3b",
        "colab": {
          "base_uri": "https://localhost:8080/"
        }
      },
      "source": [
        "first  =  'John'\n",
        "last =  'Smith'\n",
        "message = first + ' [' + last + '] is a coder '\n",
        "print(message)"
      ],
      "execution_count": 1,
      "outputs": [
        {
          "output_type": "stream",
          "text": [
            "John [Smith] is a coder \n"
          ],
          "name": "stdout"
        }
      ]
    },
    {
      "cell_type": "code",
      "metadata": {
        "id": "V-58KdjAdH6-",
        "outputId": "36ca975f-d499-484d-b0eb-982594e93794",
        "colab": {
          "base_uri": "https://localhost:8080/"
        }
      },
      "source": [
        "first1 = 'Johhn'\n",
        "last1 = 'Smith'\n",
        "msg = f'{first1} [{last1}] is a coder'\n",
        "print(msg)"
      ],
      "execution_count": 3,
      "outputs": [
        {
          "output_type": "stream",
          "text": [
            "Johhn [Smith] is a coder\n"
          ],
          "name": "stdout"
        }
      ]
    },
    {
      "cell_type": "code",
      "metadata": {
        "id": "NKwcSFRMdniW"
      },
      "source": [
        ""
      ],
      "execution_count": null,
      "outputs": []
    }
  ]
}